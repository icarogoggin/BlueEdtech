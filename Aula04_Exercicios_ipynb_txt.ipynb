{
  "nbformat": 4,
  "nbformat_minor": 0,
  "metadata": {
    "colab": {
      "name": "Aula04_Exercicios.ipynb.txt",
      "provenance": [],
      "collapsed_sections": []
    },
    "kernelspec": {
      "name": "python3",
      "display_name": "Python 3"
    },
    "language_info": {
      "name": "python"
    }
  },
  "cells": [
    {
      "cell_type": "markdown",
      "metadata": {
        "id": "DptQTkwqN7v9"
      },
      "source": [
        "# Exercícios de Aquecimento\n",
        "\n",
        "## Exercício 01\n",
        "Elabore um programa que imprima na tela a seguinte frase `Olá Mundo! Esse é o meu primeiro programa`"
      ]
    },
    {
      "cell_type": "code",
      "metadata": {
        "id": "fu-Hvxg7OT64",
        "colab": {
          "base_uri": "https://localhost:8080/"
        },
        "outputId": "72504bc4-9cdc-4c76-984d-5191f0a2b5bf"
      },
      "source": [
        "print ('Olá Mundo! Esse é o meu primeiro programa')"
      ],
      "execution_count": 10,
      "outputs": [
        {
          "output_type": "stream",
          "text": [
            "Olá Mundo! Esse é o meu primeiro programa\n"
          ],
          "name": "stdout"
        }
      ]
    },
    {
      "cell_type": "markdown",
      "metadata": {
        "id": "HYnPLbl2OfuE"
      },
      "source": [
        "## Exercício 02\n",
        "Elabore um programa que escreve seu nome completo na primeira linha, seu endereço na segunda e o CEP e telefone na terceira.  \n",
        "\n",
        "**Exemplo:**\n",
        "```\n",
        "Nome: Bruno Fabri\n",
        "Endereço: Rua ABC\n",
        "CEP: 002220-010\n",
        "```"
      ]
    },
    {
      "cell_type": "code",
      "metadata": {
        "id": "sUrmuOzbO5Cd",
        "colab": {
          "base_uri": "https://localhost:8080/"
        },
        "outputId": "3933ae65-29f4-4f38-8d8f-05c9022dd2c2"
      },
      "source": [
        "print ('Nome: Ícaro Goggin \\nEndereço: ABC-PE \\nCEP: 99999-000')"
      ],
      "execution_count": 14,
      "outputs": [
        {
          "output_type": "stream",
          "text": [
            "Nome: Ícaro Goggin \n",
            "Endereço: ABC-PE \n",
            "CEP: 99999-000\n"
          ],
          "name": "stdout"
        }
      ]
    },
    {
      "cell_type": "markdown",
      "metadata": {
        "id": "5XVY0cvwP1WX"
      },
      "source": [
        "## Exercício 03\n",
        "Elabore um programa que recebe o nome de uma pessoa do terminal e mostra a seguinte mensagem: `Olá {nome}! Seja bem vindo ao fantástico mundo da programação`"
      ]
    },
    {
      "cell_type": "code",
      "metadata": {
        "id": "VDfwe6OSQM0M",
        "colab": {
          "base_uri": "https://localhost:8080/"
        },
        "outputId": "81d7b06a-2c40-46ba-db65-97fb3eb50907"
      },
      "source": [
        "nome = input('Qual seu nome?')\n",
        "print ('Olá {}! Seja bem vindo ao fantástico mundo da programação!'.format(nome))"
      ],
      "execution_count": 9,
      "outputs": [
        {
          "output_type": "stream",
          "text": [
            "Qual seu nome?Ícaro\n",
            "Olá Ícaro! Seja bem vindo ao fantástico mundo da programação!\n"
          ],
          "name": "stdout"
        }
      ]
    },
    {
      "cell_type": "markdown",
      "metadata": {
        "id": "1Nb29agVQc3k"
      },
      "source": [
        "## Exercício 04\n",
        "Elabore um programa que recebe dois valores inteiros e mostra a soma desses valores\n",
        "\n",
        "**Exemplo:**\n",
        "\n",
        "```\n",
        "Primeiro Valor = 2\n",
        "Segundo Valor = 3\n",
        "Soma = 5\n",
        "```"
      ]
    },
    {
      "cell_type": "code",
      "metadata": {
        "id": "a6_BwVwRROmH",
        "colab": {
          "base_uri": "https://localhost:8080/"
        },
        "outputId": "b2eaf85e-52cf-4c56-ec22-902ea5370779"
      },
      "source": [
        "n1 = int(input('Primeiro valor'))\n",
        "n2 = int(input('Segundo valor'))\n",
        "resultado = n1 + n2\n",
        "print ('O resultado é:', resultado)"
      ],
      "execution_count": 21,
      "outputs": [
        {
          "output_type": "stream",
          "text": [
            "Primeiro valor2\n",
            "Segundo valor3\n",
            "O resultado é: 5\n"
          ],
          "name": "stdout"
        }
      ]
    },
    {
      "cell_type": "markdown",
      "metadata": {
        "id": "4HQxR3FTTbSr"
      },
      "source": [
        "## Exercício 05\n",
        "Elabore um programa que recebe dois valores inteiros e mostra se o primeiro valor é maior ou igual ao segundo valor\n",
        "\n",
        "**Exemplo:**\n",
        "```\n",
        "Primeiro Valor = 3\n",
        "Segundo Valor = 2\n",
        "Resultado = True\n",
        "```"
      ]
    },
    {
      "cell_type": "code",
      "metadata": {
        "id": "OXISQASdTeSW",
        "colab": {
          "base_uri": "https://localhost:8080/"
        },
        "outputId": "24923108-a51e-4a49-e70f-63d588841a18"
      },
      "source": [
        "n1 = int(input('Primeiro valor: '))\n",
        "n2 = int(input('Segundo valor: '))\n",
        "resultado = n1 >= n\n",
        "print (resultado)"
      ],
      "execution_count": 24,
      "outputs": [
        {
          "output_type": "stream",
          "text": [
            "Primeiro valor: 1\n",
            "Segundo valor: 1\n",
            "True\n"
          ],
          "name": "stdout"
        }
      ]
    },
    {
      "cell_type": "markdown",
      "metadata": {
        "id": "Gn8rHPn3UCnc"
      },
      "source": [
        "## Exercício 06\n",
        "Elabore um programa que recebe o seu nome, endereço e hobby e mostra cada uma das informações da seguinte forma:\n",
        "- Nome -> Letra maiúscula\n",
        "- Endereço -> Letra minúscula\n",
        "- Hobby -> Primeira letra maiúscula\n",
        "\n",
        "**Exemplo Entrada:**\n",
        "```\n",
        "Nome: bruno fabri\n",
        "Endereço: Rua ABC\n",
        "Hobby: jogar cs\n",
        "```\n",
        "\n",
        "**Exemplo Saída:**\n",
        "```\n",
        "Nome: BRUNO FABRI\n",
        "Endereço: rua abc\n",
        "Hobby: Jogar cs\n",
        "```"
      ]
    },
    {
      "cell_type": "code",
      "metadata": {
        "id": "ZIj-PGVZVVP6",
        "colab": {
          "base_uri": "https://localhost:8080/"
        },
        "outputId": "59441967-0415-4c13-8f82-385cf3c486c9"
      },
      "source": [
        "nome = input('Digite seu nome: ').upper()\n",
        "endereço = input('Digite seu endereço: ').lower()\n",
        "hobby = input('Digite seu hobby: ').capitalize()\n",
        "print(nome)\n",
        "print(endereço)\n",
        "print(hobby)"
      ],
      "execution_count": 31,
      "outputs": [
        {
          "output_type": "stream",
          "text": [
            "Digite seu nome: Icaro Goggin\n",
            "Digite seu endereço: Pombos\n",
            "Digite seu hobby: Cinema\n",
            "ICARO GOGGIN\n",
            "pombos\n",
            "Cinema\n"
          ],
          "name": "stdout"
        }
      ]
    },
    {
      "cell_type": "markdown",
      "metadata": {
        "id": "wlvmEAPQNrcL"
      },
      "source": [
        "# Mini Projetos"
      ]
    },
    {
      "cell_type": "markdown",
      "metadata": {
        "id": "W8zwueNBKh4B"
      },
      "source": [
        "## Mini Projeto 01 - Conversor de Moeda\n",
        "Vamos construir um programa que irá converter moedas do real para o dólar e do dólar para o real. Vamos considerar que `$ 1,00 = R$ 5,75`\n",
        "\n",
        "### Parte 1\n",
        "Faça o conversor de moeda receber o valor em real e mostrar o valor convertido para dólar no formato `$ XXXX.XX`\n",
        "\n",
        "**Exemplo:**\n",
        "\n",
        "```\n",
        "Valor em R$ = 1000\n",
        "Valor em $ = $ 173.91\n",
        "```\n",
        "\n",
        "### Parte 2\n",
        "Altere o conversor de moedas para receber o valor em dólar, converter para real e mostrar o resultado no formato `R$ XXXX.XX`\n",
        "\n",
        "**Exemplo:**\n",
        "```\n",
        "Valor em $ = 1000\n",
        "Valor em R$ = R$ 5750.00\n",
        "```"
      ]
    },
    {
      "cell_type": "code",
      "metadata": {
        "id": "mRQ9fpIgMp5Z",
        "colab": {
          "base_uri": "https://localhost:8080/"
        },
        "outputId": "21dc0755-8135-407e-d63f-fa391da81fa9"
      },
      "source": [
        "#Parte 1\n",
        "valor_real = float(input('Digite o valor em Reais: R$'))\n",
        "valor_dolar = float(valor_real / 5.75)\n",
        "print('Valor em Dólar: $', (\"%.2f\" % valor_dolar))\n",
        "\n",
        "#Parte 2\n",
        "valor_dolar = float(input('Digite o valor em Dólar: $'))\n",
        "valor_real = float(valor_dolar * 5.75)\n",
        "print('Valor em Real: R$', (\"%.2f\" % valor_real))"
      ],
      "execution_count": 40,
      "outputs": [
        {
          "output_type": "stream",
          "text": [
            "Digite o valor em Reais: R$1000\n",
            "Valor em Dólar: $ 173.91\n",
            "Digite o valor em Dólar: $1000\n",
            "Valor em Real: R$ 5750.00\n"
          ],
          "name": "stdout"
        }
      ]
    },
    {
      "cell_type": "markdown",
      "metadata": {
        "id": "0NmAiF2DV_ju"
      },
      "source": [
        "## Mini Projeto 02 - Calculadora de aumento de aluguel\n",
        "Vamos construir um programa que irá calcular o aumento anual do seu aluguel em duas partes:\n",
        "\n",
        "### Parte 1\n",
        "A sua calculadora vai receber o `valor do aluguel` e calcular o aumento baseado no `IGPM de 31%`. A calculadora deve apresentar o aluguel reajustado no formato `R$ XXXX.XX`\n",
        "\n",
        "**Exemplo:**\n",
        "```\n",
        "Valor do aluguel = 1000\n",
        "Valor do aluguel reajustado = R$ 1310,00\n",
        "```\n",
        "\n",
        "### Parte 2\n",
        "Agora, altere sua calculadora para receber além do `valor do aluguel`, o percentual do reajuste no formato `XX%`.  \n",
        "\n",
        "**Dica:** Descubra uma forma de transformar o percentual recebido em um número para efetuar o cálculo.\n",
        "\n",
        "**Exemplo:**\n",
        "```\n",
        "Valor do aluguel = 1000\n",
        "Percentual do reajuste = 31%\n",
        "Valor do aluguel reajustado = R% 1310,00\n",
        "```"
      ]
    },
    {
      "cell_type": "code",
      "metadata": {
        "id": "0eHzSCyaGkYJ"
      },
      "source": [
        "valorAluguel = float(input(\"Valor do aluguel: R$\" ))\n",
        "valorReajustado = valorAluguel * 31 / 100 + valorAluguel\n",
        "print(f' O valor do aluguel com o reajuste passa a ser de R$ {valorReajustado:.2f}')\n",
        "\n",
        "# Parte 2 \n",
        "\n",
        "valorAluguel = float(input(\"Valor do aluguel: R$\" ))\n",
        "reajuste = int(input(\"Escolha o percentual de reajuste: \"))\n",
        "valorReajustado = valorAluguel * reajuste / 100 + valorAluguel\n",
        "print(f'O valor do aluguel com o reajuste passa a ser de R$ {valorReajustado:.2f}')\n"
      ],
      "execution_count": null,
      "outputs": []
    },
    {
      "cell_type": "markdown",
      "metadata": {
        "id": "xN88sUuMOG46"
      },
      "source": [
        "## Mini Projeto 03 - Calculadora de dano\n",
        "Vamos implementar a calculadora de dano de RPG!!\n",
        "\n",
        "### Parte 1\n",
        "O programa vai receber a `vida e um monstro (entre 10 e 50)` e o `valor do ataque do jogador por turno (entre 5 e 10)`\n",
        "\n",
        "Baseado nos valores, exiba a quantidade de turnos que o jogador irá demorar para conseguir derrotar o monstro.\n",
        "\n",
        "**Exemplo:**\n",
        "```\n",
        "Vida de um monstro (entre 10 e 50): 26\n",
        "Valor do ataque do jogador por turno (entre 5 e 10): 5\n",
        "Resultado: O jogador irá precisar de 6 turnos para derrotar o monstro.\n",
        "```\n",
        "\n",
        "### Parte 2\n",
        "Altere o programa para ao invés de receber a vida do monstro, gerar aleatoriamente um valor entre 10 e 50."
      ]
    },
    {
      "cell_type": "code",
      "metadata": {
        "id": "Mrpz9UomQH2P",
        "colab": {
          "base_uri": "https://localhost:8080/"
        },
        "outputId": "5c96250d-d881-41d8-b3fa-0df2d2d809a8"
      },
      "source": [
        "# Parte 1\n",
        "\n",
        "vidaMonstro = int(input(\"Defina a vida do monstro entre 10 e 50: \"))\n",
        "valorAtaque = int(input(\"Defina o valor de ataque entre 5 e 10: \"))\n",
        "\n",
        "numTurnos = vidaMonstro // valorAtaque\n",
        "\n",
        "if vidaMonstro % valorAtaque == 0: \n",
        "  print(f\"O jogador irá precisar de {numTurnos} turno(s) para derrotar o monstro.\")\n",
        "else:  \n",
        "  print(\"O jogador irá precisar de\", numTurnos + 1, \"turno(s) para derrotar o monstro.\")\n",
        "\n",
        "  # Parte 2 \n",
        "\n",
        "import random\n",
        "vidaMonstro = range(10, 50)\n",
        "variavelMonstro = random.choice(vidaMonstro)\n",
        "\n",
        "print(f\"A vida do monstro é: {variavelMonstro}\")\n",
        "\n",
        "valorAtaque = int(input(\"Defina o valor de ataque entre 5 e 10: \"))\n",
        "\n",
        "numTurnos = variavelMonstro // valorAtaque\n",
        "\n",
        "if variavelMonstro % valorAtaque == 0: \n",
        "  print(f\"O jogador irá precisar de {numTurnos} turno(s) para derrotar o monstro.\")\n",
        "else:  \n",
        "  print(\"O jogador irá precisar de\", numTurnos + 1, \"turno(s) para derrotar o monstro.\")\n",
        "\n"
      ],
      "execution_count": 42,
      "outputs": [
        {
          "output_type": "stream",
          "text": [
            "Defina a vida do monstro entre 10 e 50: 1000\n",
            "Defina o valor de ataque entre 5 e 10: 100\n",
            "O jogador irá precisar de 10 turno(s) para derrotar o monstro.\n",
            "A vida do monstro é: 23\n",
            "Defina o valor de ataque entre 5 e 10: 110\n",
            "O jogador irá precisar de 1 turno(s) para derrotar o monstro.\n"
          ],
          "name": "stdout"
        }
      ]
    }
  ]
}