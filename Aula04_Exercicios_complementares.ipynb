{
  "nbformat": 4,
  "nbformat_minor": 0,
  "metadata": {
    "colab": {
      "name": "Aula04 - Exercicios complementares.ipynb",
      "provenance": [],
      "collapsed_sections": [],
      "authorship_tag": "ABX9TyP5rLw/tEEJRZ4dJWEww/U2",
      "include_colab_link": true
    },
    "kernelspec": {
      "name": "python3",
      "display_name": "Python 3"
    },
    "language_info": {
      "name": "python"
    }
  },
  "cells": [
    {
      "cell_type": "markdown",
      "metadata": {
        "id": "view-in-github",
        "colab_type": "text"
      },
      "source": [
        "<a href=\"https://colab.research.google.com/github/icarogoggin/BlueEdtech/blob/main/Aula04_Exercicios_complementares.ipynb\" target=\"_parent\"><img src=\"https://colab.research.google.com/assets/colab-badge.svg\" alt=\"Open In Colab\"/></a>"
      ]
    },
    {
      "cell_type": "markdown",
      "metadata": {
        "id": "f_O2BUnsk3hw"
      },
      "source": [
        ""
      ]
    },
    {
      "cell_type": "markdown",
      "metadata": {
        "id": "lomN01FFk-pD"
      },
      "source": [
        "1. Faça um Programa que mostre a mensagem \"Olá Mundo\" na tela."
      ]
    },
    {
      "cell_type": "code",
      "metadata": {
        "colab": {
          "base_uri": "https://localhost:8080/"
        },
        "id": "cAWktD5slDE6",
        "outputId": "87968e41-7d74-468f-de7c-795ac0e740c6"
      },
      "source": [
        "print ('Olá Mundo')"
      ],
      "execution_count": null,
      "outputs": [
        {
          "output_type": "stream",
          "text": [
            "Olá Mundo\n"
          ],
          "name": "stdout"
        }
      ]
    },
    {
      "cell_type": "markdown",
      "metadata": {
        "id": "Jsklm3krlDh3"
      },
      "source": [
        "2. Faça um Programa que peça um número e então mostre a mensagem O número informado foi [número]."
      ]
    },
    {
      "cell_type": "code",
      "metadata": {
        "colab": {
          "base_uri": "https://localhost:8080/"
        },
        "id": "xTGWM-culIPU",
        "outputId": "348b3d6a-c6e9-420e-a41f-e26eb56ef253"
      },
      "source": [
        "n1 = int(input('Digite um número: '))\n",
        "print (f'O número informado foi {n1}.')"
      ],
      "execution_count": null,
      "outputs": [
        {
          "output_type": "stream",
          "text": [
            "Digite um número: 8\n",
            "O número informado foi 8.\n"
          ],
          "name": "stdout"
        }
      ]
    },
    {
      "cell_type": "markdown",
      "metadata": {
        "id": "GdKdAByjlI6o"
      },
      "source": [
        "3. Faça um Programa que peça dois números e imprima a soma."
      ]
    },
    {
      "cell_type": "code",
      "metadata": {
        "colab": {
          "base_uri": "https://localhost:8080/"
        },
        "id": "r8z6cunAlM4Y",
        "outputId": "93c19d6f-3b1b-4b01-fb65-e6a9ca9e0a44"
      },
      "source": [
        "n1 = int(input('Digite um número: '))\n",
        "n2 = int(input('Digite um número: '))\n",
        "print ('O resultado desta soma é:', n1 + n2)"
      ],
      "execution_count": null,
      "outputs": [
        {
          "output_type": "stream",
          "text": [
            "Digite um número: 2\n",
            "Digite um número: 2\n",
            "O resultado desta soma é: 4\n"
          ],
          "name": "stdout"
        }
      ]
    },
    {
      "cell_type": "markdown",
      "metadata": {
        "id": "GPqkb1-5lNdb"
      },
      "source": [
        "4. Faça um Programa que peça as 4 notas bimestrais e mostre a média."
      ]
    },
    {
      "cell_type": "code",
      "metadata": {
        "colab": {
          "base_uri": "https://localhost:8080/"
        },
        "id": "NRj_x-mxlP7k",
        "outputId": "d3eace0a-d580-404e-da72-88f525197137"
      },
      "source": [
        "nota1 = float(input('Digite a primeira nota: '))\n",
        "nota2 = float(input('Digite a segunda nota: '))\n",
        "nota3 = float(input('Digite a terceira nota: '))\n",
        "nota4 = float(input('Digite a quarta nota: '))\n",
        "media = float((nota1 + nota2 + nota3 + nota4)/ 4)\n",
        "print ('A média do aluno foi: ', media)"
      ],
      "execution_count": null,
      "outputs": [
        {
          "output_type": "stream",
          "text": [
            "Digite a primeira nota: 8\n",
            "Digite a segunda nota: 6\n",
            "Digite a terceira nota: 7\n",
            "Digite a quarta nota: 9\n",
            "A média do aluno foi:  7.5\n"
          ],
          "name": "stdout"
        }
      ]
    },
    {
      "cell_type": "markdown",
      "metadata": {
        "id": "vHoXF8zulQLj"
      },
      "source": [
        "5. Faça um Programa que converta metros para centímetros."
      ]
    },
    {
      "cell_type": "code",
      "metadata": {
        "colab": {
          "base_uri": "https://localhost:8080/"
        },
        "id": "WhwWc07nlTTn",
        "outputId": "e7f43c18-ff92-4aaf-ad3c-b05c805c7f22"
      },
      "source": [
        "m = float(input('Coloque o tamanho em (m) que você quer converter para (cm): '))\n",
        "cm = m * 100\n",
        "print (f'{m} metro(s) são {cm} centímetros')"
      ],
      "execution_count": null,
      "outputs": [
        {
          "output_type": "stream",
          "text": [
            "Coloque o tamanho em (m) que você quer converter para (cm): 1.80\n",
            "1.8 metro(s) são 180.0 centímetros\n"
          ],
          "name": "stdout"
        }
      ]
    },
    {
      "cell_type": "markdown",
      "metadata": {
        "id": "-PTI_cGQlTh0"
      },
      "source": [
        "6. Faça um Programa que peça o raio de um círculo, calcule e mostre sua área."
      ]
    },
    {
      "cell_type": "code",
      "metadata": {
        "colab": {
          "base_uri": "https://localhost:8080/"
        },
        "id": "VIzS4HJelWR0",
        "outputId": "84818d8a-901a-4321-eb42-7be773f90b75"
      },
      "source": [
        "raio = float(input('Digite aqui o raio: '))\n",
        "area = raio ** 2 *3.14\n",
        "print (f'Crincunferências de raio {raio} a área calculada é: {area}')\n"
      ],
      "execution_count": null,
      "outputs": [
        {
          "output_type": "stream",
          "text": [
            "Digite aqui o raio: 10\n",
            "Crincunferências de raio 10.0 a área calculada é: 314.0\n"
          ],
          "name": "stdout"
        }
      ]
    },
    {
      "cell_type": "markdown",
      "metadata": {
        "id": "CEkgpArklWhE"
      },
      "source": [
        "7. Faça um Programa que calcule a área de um quadrado, em seguida mostre o dobro desta área para o usuário."
      ]
    },
    {
      "cell_type": "code",
      "metadata": {
        "id": "wl4CcEePlZwt",
        "colab": {
          "base_uri": "https://localhost:8080/"
        },
        "outputId": "a9659df9-e979-4cc5-bb7a-8fe15613c09d"
      },
      "source": [
        "lquadrado = float(input('Digite um dos lados do quadrado: '))\n",
        "area = lquadrado * lquadrado\n",
        "print (f'A área calculada é: {area} \\nO Dobro da área é:', area * 2)"
      ],
      "execution_count": null,
      "outputs": [
        {
          "output_type": "stream",
          "text": [
            "Digite um dos lados do quadrado: 4\n",
            "A área calculada é: 16.0 \n",
            "O Dobro da área é: 32.0\n"
          ],
          "name": "stdout"
        }
      ]
    },
    {
      "cell_type": "markdown",
      "metadata": {
        "id": "cctqzYW8laWs"
      },
      "source": [
        "8. Faça um Programa que pergunte quanto você ganha por hora e o número de horas trabalhadas no mês.<br> Calcule e mostre o total do seu salário no referido mês."
      ]
    },
    {
      "cell_type": "code",
      "metadata": {
        "id": "EZ0En5zvleVe",
        "colab": {
          "base_uri": "https://localhost:8080/"
        },
        "outputId": "bd9559fd-3538-48cb-b450-df6e04b7cd81"
      },
      "source": [
        "vhora = float(input('Quanto você ganhará por hora: '))\n",
        "thora = float(input('Quantas horas você trabalhará no mês: '))\n",
        "print ('Seu salário mensal será de R$', vhora * thora)"
      ],
      "execution_count": null,
      "outputs": [
        {
          "output_type": "stream",
          "text": [
            "Quanto você ganhará por hora: 25\n",
            "Quantas horas você trabalhará no mês: 220\n",
            "Seu salário mensal será de R$ 5500.0\n"
          ],
          "name": "stdout"
        }
      ]
    },
    {
      "cell_type": "markdown",
      "metadata": {
        "id": "w7RTqcZ7levq"
      },
      "source": [
        "9. Faça um Programa que peça a temperatura em graus Fahrenheit, transforme e mostre a temperatura em graus Celsius.<br>\n",
        "C = 5 * ((F-32) / 9)."
      ]
    },
    {
      "cell_type": "code",
      "metadata": {
        "id": "qWgL5ISFlhut",
        "colab": {
          "base_uri": "https://localhost:8080/"
        },
        "outputId": "86ea3e5f-511c-4be3-dd91-41d317f9993d"
      },
      "source": [
        "ftemp = float(input('Qual temperatura em fahrenheit: '))\n",
        "ctemp = \"%.2f\" %(ftemp - 32 *5/9)\n",
        "print (f'{ftemp}°F é equivalente a {ctemp}°C')"
      ],
      "execution_count": null,
      "outputs": [
        {
          "output_type": "stream",
          "text": [
            "Qual temperatura em fahrenheit: 50\n",
            "50.0°F é equivalente a 32.22°C\n"
          ],
          "name": "stdout"
        }
      ]
    },
    {
      "cell_type": "markdown",
      "metadata": {
        "id": "okG1PONZliBN"
      },
      "source": [
        "10. Faça um Programa que peça a temperatura em graus Celsius, transforme e mostre em graus Fahrenheit."
      ]
    },
    {
      "cell_type": "code",
      "metadata": {
        "id": "nL3QY_X2lmCR",
        "colab": {
          "base_uri": "https://localhost:8080/"
        },
        "outputId": "4702037a-65a1-410c-d569-c46dded17a7b"
      },
      "source": [
        "ctemp = float(input('Qual temperatura em Celsius: '))\n",
        "ftemp = \"%.2f\" %(ctemp *5/9 + 32)\n",
        "print (f'{ctemp}°C é equivalente a {ftemp}°F')"
      ],
      "execution_count": null,
      "outputs": [
        {
          "output_type": "stream",
          "text": [
            "Qual temperatura em Celsius: 0\n",
            "0.0°C é equivalente a 32.00°F\n"
          ],
          "name": "stdout"
        }
      ]
    },
    {
      "cell_type": "markdown",
      "metadata": {
        "id": "njgMdSEPlmTM"
      },
      "source": [
        "11. Faça um Programa que peça 2 números inteiros e um número real. Calcule e mostre:<br>\n",
        "a. o produto do dobro do primeiro com metade do segundo. <br>\n",
        "b. a soma do triplo do primeiro com o terceiro. <br>\n",
        "c. o terceiro elevado ao cubo."
      ]
    },
    {
      "cell_type": "code",
      "metadata": {
        "id": "7VmGKIf1l8wy",
        "colab": {
          "base_uri": "https://localhost:8080/"
        },
        "outputId": "6c853aeb-fcda-45e9-e0c2-3029d0d949ae"
      },
      "source": [
        "n1 = int(input('Digite o numero 1: '))\n",
        "n2 = int(input('Digite o numero 2: '))\n",
        "real = float(input('Digite o numero 3 (Real): '))\n",
        "r1 = n1 * 2 * (n2 / 2)\n",
        "r2 = n1 * 3 + real\n",
        "r3 = real ** 3\n",
        "print (f'''\n",
        "O produto do dobro do primeiro numero com metade do segundo é: {r1}\n",
        "A soma do triplo do primeiro numero com o terceiro é: {r2}\n",
        "O terceiro numero elevado ao cubo é: {r3}''')"
      ],
      "execution_count": null,
      "outputs": [
        {
          "output_type": "stream",
          "text": [
            "Digite o numero 1: 2\n",
            "Digite o numero 2: 2\n",
            "Digite o numero 3 (Real): 1.5\n",
            "\n",
            "O produto do dobro do primeiro numero com metade do segundo é: 4.0\n",
            "A soma do triplo do primeiro numero com o terceiro é: 7.5\n",
            "O terceiro numero elevado ao cubo é: 3.375\n"
          ],
          "name": "stdout"
        }
      ]
    },
    {
      "cell_type": "markdown",
      "metadata": {
        "id": "2x5759lfl9Cz"
      },
      "source": [
        "12. Tendo como dados de entrada a altura de uma pessoa, construa um algoritmo que calcule seu peso ideal, usando a seguinte fórmula:<br> (72.7*altura) - 58\n"
      ]
    },
    {
      "cell_type": "code",
      "metadata": {
        "id": "njMrSIDpmV3C"
      },
      "source": [
        ""
      ],
      "execution_count": null,
      "outputs": []
    },
    {
      "cell_type": "markdown",
      "metadata": {
        "id": "rEnjHgX9mhkU"
      },
      "source": [
        "13. Tendo como dado de entrada a altura (h) de uma pessoa, construa um algoritmo que calcule seu peso ideal, utilizando as seguintes fórmulas:<br>\n",
        "a. Para homens: (72.7*h) - 58 <br>\n",
        "b. Para mulheres: (62.1*h) - 44.7"
      ]
    },
    {
      "cell_type": "code",
      "metadata": {
        "id": "vUuxpugXmlcQ"
      },
      "source": [
        ""
      ],
      "execution_count": null,
      "outputs": []
    },
    {
      "cell_type": "markdown",
      "metadata": {
        "id": "T4e8s96cmpf1"
      },
      "source": [
        "14. João Papo-de-Pescador, homem de bem, comprou um microcomputador para controlar o rendimento diário de seu trabalho. Toda vez que ele traz um peso de peixes maior que o estabelecido pelo regulamento de pesca do estado de São Paulo (50 quilos) deve pagar uma multa de R$ 4,00 por quilo excedente. João precisa que você faça um programa que leia a variável peso (peso de peixes) e calcule o excesso. Gravar na variável excesso a quantidade de quilos além do limite e na variável multa o valor da multa que João deverá pagar. Imprima os dados do programa com as mensagens adequadas."
      ]
    },
    {
      "cell_type": "code",
      "metadata": {
        "id": "RiUiiVU_mtLd"
      },
      "source": [
        ""
      ],
      "execution_count": null,
      "outputs": []
    },
    {
      "cell_type": "markdown",
      "metadata": {
        "id": "anxSpEITmtb2"
      },
      "source": [
        "Faça um Programa que pergunte quanto você ganha por hora e o número de horas trabalhadas no mês. Calcule e mostre o total do seu salário no referido mês, sabendo-se que são descontados 11% para o Imposto de Renda, 8% para o INSS e 5% para o sindicato, faça um programa que nos dê:<br>\n",
        " - salário bruto.<br>\n",
        " - quanto pagou ao INSS.<br>\n",
        " - quanto pagou ao sindicato.<br>\n",
        " - o salário líquido.<br>\n",
        "<p>calcule os descontos e o salário líquido, conforme a tabela abaixo:</p>\n",
        "(+) Salário Bruto :  <br>\n",
        "(-) IR (11%) :<br>\n",
        "(-) INSS (8%) :<br>\n",
        "(-) Sindicato (5%) :<br>\n",
        "(=) Salário Liguido :<br>\n",
        " <br>\n",
        "Obs.: Salário Bruto - Descontos = Salário Líquido. <br>"
      ]
    },
    {
      "cell_type": "code",
      "metadata": {
        "id": "DmSFa8vqoJRx"
      },
      "source": [
        ""
      ],
      "execution_count": null,
      "outputs": []
    },
    {
      "cell_type": "markdown",
      "metadata": {
        "id": "uCzaHKtwoJhi"
      },
      "source": [
        "16. Faça um programa para uma loja de tintas. O programa deverá pedir o tamanho em metros quadrados da área a ser pintada. Considere que a cobertura da tinta é de 1 litro para cada 3 metros quadrados e que a tinta é vendida em latas de 18 litros, que custam R$ 80,00. Informe ao usuário a quantidades de latas de tinta a serem compradas e o preço total."
      ]
    },
    {
      "cell_type": "code",
      "metadata": {
        "id": "jZQN846roOHC"
      },
      "source": [
        ""
      ],
      "execution_count": null,
      "outputs": []
    },
    {
      "cell_type": "markdown",
      "metadata": {
        "id": "XiRKPd4BoOXW"
      },
      "source": [
        "17. Faça um Programa para uma loja de tintas. O programa deverá pedir o tamanho em metros quadrados da área a ser pintada. Considere que a cobertura da tinta é de 1 litro para cada 6 metros quadrados e que a tinta é vendida em latas de 18 litros, que custam R&#36; 80,00 ou em galões de 3,6 litros, que custam R&#36; 25,00.<br>\n",
        "Informe ao usuário as quantidades de tinta a serem compradas e os respectivos preços em 3 situações:<br>\n",
        " - comprar apenas latas de 18 litros;<br>\n",
        " - comprar apenas galões de 3,6 litros;<br>\n",
        " - misturar latas e galões, de forma que o desperdício de tinta seja menor.<br>\n",
        " <br>\n",
        "Acrescente 10% de folga e sempre arredonde os valores para cima, isto é, considere latas cheias."
      ]
    },
    {
      "cell_type": "code",
      "metadata": {
        "id": "H8cl4_lmqBXi"
      },
      "source": [
        ""
      ],
      "execution_count": null,
      "outputs": []
    },
    {
      "cell_type": "markdown",
      "metadata": {
        "id": "mW6yNCfvqBsq"
      },
      "source": [
        "18. Faça um programa que peça o tamanho de um arquivo para download (em MB) e a velocidade de um link de Internet (em Mbps), calcule e informe o tempo aproximado de download do arquivo usando este link (em minutos)."
      ]
    },
    {
      "cell_type": "code",
      "metadata": {
        "id": "QH8KeITlqEph"
      },
      "source": [
        ""
      ],
      "execution_count": null,
      "outputs": []
    },
    {
      "cell_type": "code",
      "metadata": {
        "id": "D5OZOuCrndHN"
      },
      "source": [
        ""
      ],
      "execution_count": null,
      "outputs": []
    }
  ]
}