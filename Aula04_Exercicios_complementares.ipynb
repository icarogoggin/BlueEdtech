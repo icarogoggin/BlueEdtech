{
  "nbformat": 4,
  "nbformat_minor": 0,
  "metadata": {
    "colab": {
      "name": "Aula04 - Exercicios complementares.ipynb",
      "provenance": [],
      "collapsed_sections": [],
      "authorship_tag": "ABX9TyPGcUeAhR0WtFeMRzMF9KVt",
      "include_colab_link": true
    },
    "kernelspec": {
      "name": "python3",
      "display_name": "Python 3"
    },
    "language_info": {
      "name": "python"
    }
  },
  "cells": [
    {
      "cell_type": "markdown",
      "metadata": {
        "id": "view-in-github",
        "colab_type": "text"
      },
      "source": [
        "<a href=\"https://colab.research.google.com/github/icarogoggin/BlueEdtech/blob/main/Aula04_Exercicios_complementares.ipynb\" target=\"_parent\"><img src=\"https://colab.research.google.com/assets/colab-badge.svg\" alt=\"Open In Colab\"/></a>"
      ]
    },
    {
      "cell_type": "markdown",
      "metadata": {
        "id": "f_O2BUnsk3hw"
      },
      "source": [
        ""
      ]
    },
    {
      "cell_type": "markdown",
      "metadata": {
        "id": "lomN01FFk-pD"
      },
      "source": [
        "1. Faça um Programa que mostre a mensagem \"Olá Mundo\" na tela."
      ]
    },
    {
      "cell_type": "code",
      "metadata": {
        "colab": {
          "base_uri": "https://localhost:8080/"
        },
        "id": "cAWktD5slDE6",
        "outputId": "87968e41-7d74-468f-de7c-795ac0e740c6"
      },
      "source": [
        "print ('Olá Mundo')"
      ],
      "execution_count": 1,
      "outputs": [
        {
          "output_type": "stream",
          "text": [
            "Olá Mundo\n"
          ],
          "name": "stdout"
        }
      ]
    },
    {
      "cell_type": "markdown",
      "metadata": {
        "id": "Jsklm3krlDh3"
      },
      "source": [
        "2. Faça um Programa que peça um número e então mostre a mensagem O número informado foi [número]."
      ]
    },
    {
      "cell_type": "code",
      "metadata": {
        "colab": {
          "base_uri": "https://localhost:8080/"
        },
        "id": "xTGWM-culIPU",
        "outputId": "348b3d6a-c6e9-420e-a41f-e26eb56ef253"
      },
      "source": [
        "n1 = int(input('Digite um número: '))\n",
        "print (f'O número informado foi {n1}.')"
      ],
      "execution_count": 3,
      "outputs": [
        {
          "output_type": "stream",
          "text": [
            "Digite um número: 8\n",
            "O número informado foi 8.\n"
          ],
          "name": "stdout"
        }
      ]
    },
    {
      "cell_type": "markdown",
      "metadata": {
        "id": "GdKdAByjlI6o"
      },
      "source": [
        "3. Faça um Programa que peça dois números e imprima a soma."
      ]
    },
    {
      "cell_type": "code",
      "metadata": {
        "colab": {
          "base_uri": "https://localhost:8080/"
        },
        "id": "r8z6cunAlM4Y",
        "outputId": "93c19d6f-3b1b-4b01-fb65-e6a9ca9e0a44"
      },
      "source": [
        "n1 = int(input('Digite um número: '))\n",
        "n2 = int(input('Digite um número: '))\n",
        "print ('O resultado desta soma é:', n1 + n2)"
      ],
      "execution_count": 5,
      "outputs": [
        {
          "output_type": "stream",
          "text": [
            "Digite um número: 2\n",
            "Digite um número: 2\n",
            "O resultado desta soma é: 4\n"
          ],
          "name": "stdout"
        }
      ]
    },
    {
      "cell_type": "markdown",
      "metadata": {
        "id": "GPqkb1-5lNdb"
      },
      "source": [
        "4. Faça um Programa que peça as 4 notas bimestrais e mostre a média."
      ]
    },
    {
      "cell_type": "code",
      "metadata": {
        "colab": {
          "base_uri": "https://localhost:8080/"
        },
        "id": "NRj_x-mxlP7k",
        "outputId": "d3eace0a-d580-404e-da72-88f525197137"
      },
      "source": [
        "nota1 = float(input('Digite a primeira nota: '))\n",
        "nota2 = float(input('Digite a segunda nota: '))\n",
        "nota3 = float(input('Digite a terceira nota: '))\n",
        "nota4 = float(input('Digite a quarta nota: '))\n",
        "media = float((nota1 + nota2 + nota3 + nota4)/ 4)\n",
        "print ('A média do aluno foi: ', media)"
      ],
      "execution_count": 11,
      "outputs": [
        {
          "output_type": "stream",
          "text": [
            "Digite a primeira nota: 8\n",
            "Digite a segunda nota: 6\n",
            "Digite a terceira nota: 7\n",
            "Digite a quarta nota: 9\n",
            "A média do aluno foi:  7.5\n"
          ],
          "name": "stdout"
        }
      ]
    },
    {
      "cell_type": "markdown",
      "metadata": {
        "id": "vHoXF8zulQLj"
      },
      "source": [
        "5. Faça um Programa que converta metros para centímetros."
      ]
    },
    {
      "cell_type": "code",
      "metadata": {
        "colab": {
          "base_uri": "https://localhost:8080/"
        },
        "id": "WhwWc07nlTTn",
        "outputId": "e7f43c18-ff92-4aaf-ad3c-b05c805c7f22"
      },
      "source": [
        "m = float(input('Coloque o tamanho em (m) que você quer converter para (cm): '))\n",
        "cm = m * 100\n",
        "print (f'{m} metro(s) são {cm} centímetros')"
      ],
      "execution_count": 12,
      "outputs": [
        {
          "output_type": "stream",
          "text": [
            "Coloque o tamanho em (m) que você quer converter para (cm): 1.80\n",
            "1.8 metro(s) são 180.0 centímetros\n"
          ],
          "name": "stdout"
        }
      ]
    },
    {
      "cell_type": "markdown",
      "metadata": {
        "id": "-PTI_cGQlTh0"
      },
      "source": [
        "6. Faça um Programa que peça o raio de um círculo, calcule e mostre sua área."
      ]
    },
    {
      "cell_type": "code",
      "metadata": {
        "colab": {
          "base_uri": "https://localhost:8080/"
        },
        "id": "VIzS4HJelWR0",
        "outputId": "84818d8a-901a-4321-eb42-7be773f90b75"
      },
      "source": [
        "raio = float(input('Digite aqui o raio: '))\n",
        "area = raio ** 2 *3.14\n",
        "print (f'Crincunferências de raio {raio} a área calculada é: {area}')\n"
      ],
      "execution_count": 17,
      "outputs": [
        {
          "output_type": "stream",
          "text": [
            "Digite aqui o raio: 10\n",
            "Crincunferências de raio 10.0 a área calculada é: 314.0\n"
          ],
          "name": "stdout"
        }
      ]
    },
    {
      "cell_type": "markdown",
      "metadata": {
        "id": "CEkgpArklWhE"
      },
      "source": [
        "7. Faça um Programa que calcule a área de um quadrado, em seguida mostre o dobro desta área para o usuário."
      ]
    },
    {
      "cell_type": "code",
      "metadata": {
        "id": "wl4CcEePlZwt"
      },
      "source": [
        ""
      ],
      "execution_count": null,
      "outputs": []
    },
    {
      "cell_type": "markdown",
      "metadata": {
        "id": "cctqzYW8laWs"
      },
      "source": [
        "8. Faça um Programa que pergunte quanto você ganha por hora e o número de horas trabalhadas no mês.<br> Calcule e mostre o total do seu salário no referido mês."
      ]
    },
    {
      "cell_type": "code",
      "metadata": {
        "id": "EZ0En5zvleVe"
      },
      "source": [
        ""
      ],
      "execution_count": null,
      "outputs": []
    },
    {
      "cell_type": "markdown",
      "metadata": {
        "id": "w7RTqcZ7levq"
      },
      "source": [
        "9. Faça um Programa que peça a temperatura em graus Fahrenheit, transforme e mostre a temperatura em graus Celsius.<br>\n",
        "C = 5 * ((F-32) / 9)."
      ]
    },
    {
      "cell_type": "markdown",
      "metadata": {
        "id": "be4-PJ_emJX0"
      },
      "source": [
        ""
      ]
    },
    {
      "cell_type": "code",
      "metadata": {
        "id": "qWgL5ISFlhut"
      },
      "source": [
        ""
      ],
      "execution_count": null,
      "outputs": []
    },
    {
      "cell_type": "markdown",
      "metadata": {
        "id": "okG1PONZliBN"
      },
      "source": [
        "10. Faça um Programa que peça a temperatura em graus Celsius, transforme e mostre em graus Fahrenheit."
      ]
    },
    {
      "cell_type": "code",
      "metadata": {
        "id": "nL3QY_X2lmCR"
      },
      "source": [
        ""
      ],
      "execution_count": null,
      "outputs": []
    },
    {
      "cell_type": "markdown",
      "metadata": {
        "id": "njgMdSEPlmTM"
      },
      "source": [
        "11. Faça um Programa que peça 2 números inteiros e um número real. Calcule e mostre:\n",
        "\n",
        "a. o produto do dobro do primeiro com metade do segundo. <br>\n",
        "b. a soma do triplo do primeiro com o terceiro. <br>\n",
        "c. o terceiro elevado ao cubo."
      ]
    },
    {
      "cell_type": "code",
      "metadata": {
        "id": "7VmGKIf1l8wy"
      },
      "source": [
        ""
      ],
      "execution_count": null,
      "outputs": []
    },
    {
      "cell_type": "markdown",
      "metadata": {
        "id": "2x5759lfl9Cz"
      },
      "source": [
        "12. Tendo como dados de entrada a altura de uma pessoa, construa um algoritmo que calcule seu peso ideal, usando a seguinte fórmula:<br> (72.7*altura) - 58\n"
      ]
    },
    {
      "cell_type": "code",
      "metadata": {
        "id": "njMrSIDpmV3C"
      },
      "source": [
        ""
      ],
      "execution_count": null,
      "outputs": []
    },
    {
      "cell_type": "markdown",
      "metadata": {
        "id": "rEnjHgX9mhkU"
      },
      "source": [
        "13. Tendo como dado de entrada a altura (h) de uma pessoa, construa um algoritmo que calcule seu peso ideal, utilizando as seguintes fórmulas:<br>\n",
        "a. Para homens: (72.7*h) - 58 <br>\n",
        "b. Para mulheres: (62.1*h) - 44.7"
      ]
    },
    {
      "cell_type": "code",
      "metadata": {
        "id": "vUuxpugXmlcQ"
      },
      "source": [
        ""
      ],
      "execution_count": null,
      "outputs": []
    },
    {
      "cell_type": "markdown",
      "metadata": {
        "id": "T4e8s96cmpf1"
      },
      "source": [
        "14. João Papo-de-Pescador, homem de bem, comprou um microcomputador para controlar o rendimento diário de seu trabalho. Toda vez que ele traz um peso de peixes maior que o estabelecido pelo regulamento de pesca do estado de São Paulo (50 quilos) deve pagar uma multa de R$ 4,00 por quilo excedente. João precisa que você faça um programa que leia a variável peso (peso de peixes) e calcule o excesso. Gravar na variável excesso a quantidade de quilos além do limite e na variável multa o valor da multa que João deverá pagar. Imprima os dados do programa com as mensagens adequadas."
      ]
    },
    {
      "cell_type": "code",
      "metadata": {
        "id": "RiUiiVU_mtLd"
      },
      "source": [
        ""
      ],
      "execution_count": null,
      "outputs": []
    },
    {
      "cell_type": "markdown",
      "metadata": {
        "id": "anxSpEITmtb2"
      },
      "source": [
        "Faça um Programa que pergunte quanto você ganha por hora e o número de horas trabalhadas no mês. Calcule e mostre o total do seu salário no referido mês, sabendo-se que são descontados 11% para o Imposto de Renda, 8% para o INSS e 5% para o sindicato, faça um programa que nos dê:<br>\n",
        "salário bruto.<br>\n",
        "quanto pagou ao INSS.<br>\n",
        "quanto pagou ao sindicato.<br>\n",
        "o salário líquido.<br>\n",
        "calcule os descontos e o salário líquido, conforme a tabela abaixo:<br>\n",
        "<br>\n",
        "(+) Salário Bruto :  <br>\n",
        "(-) IR (11%) :<br>\n",
        "(-) INSS (8%) :<br>\n",
        "(-) Sindicato (5%) :<br>\n",
        "(=) Salário Liguido :<br>\n",
        " <br>\n",
        "Obs.: Salário Bruto - Descontos = Salário Líquido. <br>"
      ]
    },
    {
      "cell_type": "code",
      "metadata": {
        "id": "DmSFa8vqoJRx"
      },
      "source": [
        ""
      ],
      "execution_count": null,
      "outputs": []
    },
    {
      "cell_type": "markdown",
      "metadata": {
        "id": "uCzaHKtwoJhi"
      },
      "source": [
        "16. Faça um programa para uma loja de tintas. O programa deverá pedir o tamanho em metros quadrados da área a ser pintada. Considere que a cobertura da tinta é de 1 litro para cada 3 metros quadrados e que a tinta é vendida em latas de 18 litros, que custam R$ 80,00. Informe ao usuário a quantidades de latas de tinta a serem compradas e o preço total."
      ]
    },
    {
      "cell_type": "code",
      "metadata": {
        "id": "jZQN846roOHC"
      },
      "source": [
        ""
      ],
      "execution_count": null,
      "outputs": []
    },
    {
      "cell_type": "markdown",
      "metadata": {
        "id": "XiRKPd4BoOXW"
      },
      "source": [
        "17. Faça um Programa para uma loja de tintas. O programa deverá pedir o tamanho em metros quadrados da área a ser pintada. Considere que a cobertura da tinta é de 1 litro para cada 6 metros quadrados e que a tinta é vendida em latas de 18 litros, que custam R&#36; 80,00 ou em galões de 3,6 litros, que custam R&#36; 25,00.<br>\n",
        "Informe ao usuário as quantidades de tinta a serem compradas e os respectivos preços em 3 situações:<br>\n",
        " - comprar apenas latas de 18 litros;<br>\n",
        " - comprar apenas galões de 3,6 litros;<br>\n",
        " - misturar latas e galões, de forma que o desperdício de tinta seja menor.<br>\n",
        " <br>\n",
        "Acrescente 10% de folga e sempre arredonde os valores para cima, isto é, considere latas cheias."
      ]
    },
    {
      "cell_type": "code",
      "metadata": {
        "id": "H8cl4_lmqBXi"
      },
      "source": [
        ""
      ],
      "execution_count": null,
      "outputs": []
    },
    {
      "cell_type": "markdown",
      "metadata": {
        "id": "mW6yNCfvqBsq"
      },
      "source": [
        "Faça um programa que peça o tamanho de um arquivo para download (em MB) e a velocidade de um link de Internet (em Mbps), calcule e informe o tempo aproximado de download do arquivo usando este link (em minutos)."
      ]
    },
    {
      "cell_type": "code",
      "metadata": {
        "id": "QH8KeITlqEph"
      },
      "source": [
        ""
      ],
      "execution_count": null,
      "outputs": []
    },
    {
      "cell_type": "code",
      "metadata": {
        "id": "D5OZOuCrndHN"
      },
      "source": [
        ""
      ],
      "execution_count": null,
      "outputs": []
    }
  ]
}