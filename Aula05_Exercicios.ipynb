{
  "nbformat": 4,
  "nbformat_minor": 0,
  "metadata": {
    "colab": {
      "name": "Aula05_Exercicios.ipynb",
      "provenance": [],
      "authorship_tag": "ABX9TyMAlSCjScwC+mK5Rd8Q3kBi",
      "include_colab_link": true
    },
    "kernelspec": {
      "name": "python3",
      "display_name": "Python 3"
    },
    "language_info": {
      "name": "python"
    }
  },
  "cells": [
    {
      "cell_type": "markdown",
      "metadata": {
        "id": "view-in-github",
        "colab_type": "text"
      },
      "source": [
        "<a href=\"https://colab.research.google.com/github/icarogoggin/BlueEdtech/blob/main/Aula05_Exercicios.ipynb\" target=\"_parent\"><img src=\"https://colab.research.google.com/assets/colab-badge.svg\" alt=\"Open In Colab\"/></a>"
      ]
    },
    {
      "cell_type": "markdown",
      "metadata": {
        "id": "HMsBeAT_U09B"
      },
      "source": [
        "Exercício 1: \"Faça um Programa que leia três números inteiros, em seguida mostre o maior e o menor deles.\""
      ]
    },
    {
      "cell_type": "code",
      "metadata": {
        "colab": {
          "base_uri": "https://localhost:8080/"
        },
        "id": "-dV41OcuU4uw",
        "outputId": "bc97ebd1-cde5-497c-a1e1-30dd41c681b0"
      },
      "source": [
        "#peguei os valores\n",
        "n1 = int(input('Primeiro número: '))\n",
        "n2  = int(input('Segundo número : '))\n",
        "n3 = int(input('Terceiro número: '))\n",
        "# Vou definir um numero como maior e testar se é verdadeiro, se não for o if troca até dar true // farei o mesmo procedimento para o menor\n",
        "maior = n1\n",
        "menor = n1\n",
        "if (n2 > maior):\n",
        "    maior = n2\n",
        "if (n3 > maior):\n",
        "    maior = n3\n",
        "if (n2 < menor):\n",
        "    menor = n2\n",
        "if (n3 < menor):\n",
        "    menor = n3\n",
        "print ('O maior é: ', maior)\n",
        "print ('O menor é: ', menor)\n"
      ],
      "execution_count": 12,
      "outputs": [
        {
          "output_type": "stream",
          "text": [
            "Primeiro número: 1\n",
            "Segundo número : 2\n",
            "Terceiro número: 3\n",
            "O maior é:  3\n",
            "O menor é:  1\n"
          ],
          "name": "stdout"
        }
      ]
    },
    {
      "cell_type": "markdown",
      "metadata": {
        "id": "Ct9fCVThU5rI"
      },
      "source": [
        "Exercício 2 - Faça um programa que peça dois números e imprima o maior deles."
      ]
    },
    {
      "cell_type": "code",
      "metadata": {
        "colab": {
          "base_uri": "https://localhost:8080/"
        },
        "id": "PE-R20EwU9hQ",
        "outputId": "f28c8958-c556-4289-94e4-2cf7ef670bcd"
      },
      "source": [
        "#peguei os valores\n",
        "n1 = int(input('Primeiro número: '))\n",
        "n2  = int(input('Segundo número : '))\n",
        "#agora vou compara-los se n1 for maior que n2 imprimo n1 se não imprimo n2\n",
        "if n1 > n2 :\n",
        "  print (f'O maior número é o: {n1}')\n",
        "else :\n",
        "    print (f'O maior número é o: {n2}')"
      ],
      "execution_count": 16,
      "outputs": [
        {
          "output_type": "stream",
          "text": [
            "Primeiro número: 1\n",
            "Segundo número : 6\n",
            "O maior número é o:6\n"
          ],
          "name": "stdout"
        }
      ]
    },
    {
      "cell_type": "markdown",
      "metadata": {
        "id": "-k2SktLSU9xd"
      },
      "source": [
        "Exercício 3 - Faça um script que peça um valor e mostre na tela se o valor é positivo ou negativo."
      ]
    },
    {
      "cell_type": "code",
      "metadata": {
        "colab": {
          "base_uri": "https://localhost:8080/"
        },
        "id": "BzLkIsA5VBgf",
        "outputId": "ced06057-6307-4dab-d63e-a62f1cc6fd04"
      },
      "source": [
        "#peguei o valor\n",
        "n1 = int(input('Primeiro número: '))\n",
        "#agora vou comparar o valor com zero. Se maior print positivo, se não, negativo\n",
        "if n1 > 0 :\n",
        "  print ('O número é : Positivo!')\n",
        "else :\n",
        "    print ('O número é : Negativo!')"
      ],
      "execution_count": 19,
      "outputs": [
        {
          "output_type": "stream",
          "text": [
            "Primeiro número: -2\n",
            "O número é : Negativo!\n"
          ],
          "name": "stdout"
        }
      ]
    },
    {
      "cell_type": "markdown",
      "metadata": {
        "id": "qX81P9fcVBv9"
      },
      "source": [
        "Exercício 4 - Crie um programa que verifique se uma letra digitada é \"F\" ou \"M\". Conforme a letra escrever: F - Feminino, M - Masculino, Sexo Inválido."
      ]
    },
    {
      "cell_type": "code",
      "metadata": {
        "colab": {
          "base_uri": "https://localhost:8080/"
        },
        "id": "wfooFJYAVHwk",
        "outputId": "03ff9453-1cdc-46d0-b350-1a820571782c"
      },
      "source": [
        "#peguei os valores\n",
        "sexo = input('Confirme seu sexo: F / M ')\n",
        "#agora vou compara-los se sexo é F ou M, se não, print inválido\n",
        "if sexo == \"F\" :\n",
        "  print ('Seu sexo é Feminino')\n",
        "elif sexo == \"M\" :\n",
        "    print ('Seu sexo é Masculino')\n",
        "else :\n",
        "    print ('Sexo Inválido')"
      ],
      "execution_count": 30,
      "outputs": [
        {
          "output_type": "stream",
          "text": [
            "Confirme seu sexo: F / M F\n",
            "Seu sexo é Feminino\n"
          ],
          "name": "stdout"
        }
      ]
    },
    {
      "cell_type": "markdown",
      "metadata": {
        "id": "JYAmuIU7VIGQ"
      },
      "source": [
        "Exercício 5 - Crie um programa em Python que peça a nota do aluno, que deve ser um float entre 0.00 e 10.0\n",
        "-\tSe a nota for menor que 6.0, deve exibir a nota F.\n",
        "-\tSe a nota for de 6.0 até 7.0, deve exibir a nota D.\n",
        "-\tSe a nota for entre 7.0 e 8.0, deve exibir a nota C.\n",
        "-\tSe a nota for entre 8.0 e 9.0, deve exibir a nota B.\n",
        "-\tPor fim, se for entre 9.0 e 10.0, deve exibir um belo de um A.\n"
      ]
    },
    {
      "cell_type": "code",
      "metadata": {
        "colab": {
          "base_uri": "https://localhost:8080/"
        },
        "id": "KoGXbT4AVNcv",
        "outputId": "c96304f1-e204-4b39-d614-3efd7fdf53f3"
      },
      "source": [
        "#pegar valor da nota\n",
        "nota = float(input(\"Digite a nota do aluno: \"))\n",
        "#atribuir uma condição pra cada situação\n",
        "if nota < 6:   \n",
        "  print(\"O aluno tirou nota: F\")\n",
        "elif nota >= 6 and nota <= 7:   \n",
        "  print(\"O aluno tirou nota: D\")\n",
        "elif nota >= 7 and nota <= 8:   \n",
        "  print(\"O aluno tirou nota: C\")\n",
        "elif nota >= 8 and nota <= 9:   \n",
        "  print(\"O aluno tirou nota: B\")\n",
        "else:   \n",
        "  print(\"O aluno tirou nota: A\")"
      ],
      "execution_count": 37,
      "outputs": [
        {
          "output_type": "stream",
          "text": [
            "Digite a nota do aluno: 9.1\n",
            "O aluno tirou nota: A\n"
          ],
          "name": "stdout"
        }
      ]
    },
    {
      "cell_type": "markdown",
      "metadata": {
        "id": "bP9HD6CSVOBn"
      },
      "source": [
        "Exercício 6 - Faça um Programa que verifique se uma letra digitada é vogal ou consoante."
      ]
    },
    {
      "cell_type": "code",
      "metadata": {
        "id": "HiSPFn10VS3I"
      },
      "source": [
        ""
      ],
      "execution_count": null,
      "outputs": []
    },
    {
      "cell_type": "markdown",
      "metadata": {
        "id": "pcDd-U3zVavn"
      },
      "source": [
        "<h1> PROJETO 1 </h1>\n",
        "Resultado da primeira/segunda aula em Python: <br>\n",
        "-\tEscreva um programa que receba uma string digitada pelo usuário; <br>\n",
        "-\tCaso a string seja \"medieval\", exiba no console \"espada\"; <br>\n",
        "-\tCaso contrário, se a string for \"futurista\", exiba no console \"sabre de luz\"; <br>\n",
        "-\tCaso contrário, exiba no console \"Tente novamente\"<br>\n"
      ]
    },
    {
      "cell_type": "code",
      "metadata": {
        "id": "EXNg4--OV38h"
      },
      "source": [
        ""
      ],
      "execution_count": null,
      "outputs": []
    },
    {
      "cell_type": "markdown",
      "metadata": {
        "id": "aupSCuP6V4UC"
      },
      "source": [
        "<h1> Continuação do PROJETO 1 </h1>\n",
        "•\tEscreva um programa que receba um ataque de espada ou sabre digitada pelo usuário; <br>\n",
        "•\tCaso o ataque seja \"espada\", exiba no console \"VOCÊ AINDA NÃO MATOU O CHEFÃO\";<br>\n",
        "•\tCaso contrário, se o ataque for \"sabre\", exiba no console \"VOCÊ DERROTOU O CHEFÃO COM O SABRE DE LUZ\"; <br>\n",
        "•\tCaso contrário, exiba no console \"ATAQUE NOVAMENTE\" <br>\n"
      ]
    },
    {
      "cell_type": "code",
      "metadata": {
        "id": "rxhWaSPMWXHb"
      },
      "source": [
        ""
      ],
      "execution_count": null,
      "outputs": []
    },
    {
      "cell_type": "markdown",
      "metadata": {
        "id": "XG76ELFSWXXS"
      },
      "source": [
        "DESAFIO - As empresas @.com resolveram dar um aumento de salário aos seus colaboradores e lhe contrataram para desenvolver o programa que calculará os reajustes.\n",
        "\n",
        "Faça um programa que recebe o salário de um colaborador e o reajuste segundo o seguinte critério, baseado no salário atual:<br>\n",
        "•\tsalários até R&#36; 280,00 (incluindo) : aumento de 20&#37;<br>\n",
        "•\tsalários entre R&#36; 280,00 e R&#36; 700,00 : aumento de 15&#37;<br>\n",
        "•\tsalários entre R&#36; 700,00 e R&#36; 1500,00 : aumento de 10&#37;<br>\n",
        "•\tsalários de R&#36; 1500,00 em diante : aumento de 5&#37;<br>\n",
        "\n",
        "Após o aumento ser realizado, informe na tela:<br>\n",
        "•\to salário antes do reajuste;<br>\n",
        "•\to percentual de aumento aplicado;<br>\n",
        "•\to valor do aumento;<br>\n",
        "•\to novo salário, após o aumento.\n",
        "\n"
      ]
    },
    {
      "cell_type": "code",
      "metadata": {
        "id": "hEYApTxGW-tM"
      },
      "source": [
        ""
      ],
      "execution_count": null,
      "outputs": []
    },
    {
      "cell_type": "markdown",
      "metadata": {
        "id": "zbHbQ0i3W_Xt"
      },
      "source": [
        "<h1>DESAFIO</h1>\n",
        "Faça um Programa para um caixa eletrônico. O programa deverá perguntar ao usuário a valor do saque e depois informar quantas notas de cada valor serão fornecidas. As notas disponíveis serão as de 1, 5, 10, 50 e 100 reais. O valor mínimo é de 10 reais e o máximo de 600 reais. O programa não deve se preocupar com a quantidade de notas existentes na máquina.<br>\n",
        "•\tExemplo 1: Para sacar a quantia de 256 reais, o programa fornece duas notas de 100, uma nota de 50, uma nota de 5 e uma nota de 1;<br>\n",
        "•\tExemplo 2: Para sacar a quantia de 399 reais, o programa fornece três notas de 100, uma nota de 50, quatro notas de 10, uma nota de 5 e quatro notas de 1.\n"
      ]
    },
    {
      "cell_type": "code",
      "metadata": {
        "id": "00Dg7o2IZv6y"
      },
      "source": [
        ""
      ],
      "execution_count": null,
      "outputs": []
    }
  ]
}