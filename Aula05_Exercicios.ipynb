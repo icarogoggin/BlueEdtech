{
  "nbformat": 4,
  "nbformat_minor": 0,
  "metadata": {
    "colab": {
      "name": "Aula05_Exercicios.ipynb",
      "provenance": [],
      "authorship_tag": "ABX9TyMYKDCVzyWoTXsn8+S39fJt",
      "include_colab_link": true
    },
    "kernelspec": {
      "name": "python3",
      "display_name": "Python 3"
    },
    "language_info": {
      "name": "python"
    }
  },
  "cells": [
    {
      "cell_type": "markdown",
      "metadata": {
        "id": "view-in-github",
        "colab_type": "text"
      },
      "source": [
        "<a href=\"https://colab.research.google.com/github/icarogoggin/BlueEdtech/blob/main/Aula05_Exercicios.ipynb\" target=\"_parent\"><img src=\"https://colab.research.google.com/assets/colab-badge.svg\" alt=\"Open In Colab\"/></a>"
      ]
    },
    {
      "cell_type": "markdown",
      "metadata": {
        "id": "HMsBeAT_U09B"
      },
      "source": [
        "Exercício 1: \"Faça um Programa que leia três números inteiros, em seguida mostre o maior e o menor deles.\""
      ]
    },
    {
      "cell_type": "code",
      "metadata": {
        "colab": {
          "base_uri": "https://localhost:8080/"
        },
        "id": "-dV41OcuU4uw",
        "outputId": "bc97ebd1-cde5-497c-a1e1-30dd41c681b0"
      },
      "source": [
        "#peguei os valores\n",
        "n1 = int(input('Primeiro número: '))\n",
        "n2  = int(input('Segundo número : '))\n",
        "n3 = int(input('Terceiro número: '))\n",
        "# Vou definir um numero como maior e testar se é verdadeiro, se não for o if troca até dar true // farei o mesmo procedimento para o menor\n",
        "maior = n1\n",
        "menor = n1\n",
        "if (n2 > maior):\n",
        "    maior = n2\n",
        "if (n3 > maior):\n",
        "    maior = n3\n",
        "if (n2 < menor):\n",
        "    menor = n2\n",
        "if (n3 < menor):\n",
        "    menor = n3\n",
        "print ('O maior é: ', maior)\n",
        "print ('O menor é: ', menor)\n"
      ],
      "execution_count": 12,
      "outputs": [
        {
          "output_type": "stream",
          "text": [
            "Primeiro número: 1\n",
            "Segundo número : 2\n",
            "Terceiro número: 3\n",
            "O maior é:  3\n",
            "O menor é:  1\n"
          ],
          "name": "stdout"
        }
      ]
    },
    {
      "cell_type": "markdown",
      "metadata": {
        "id": "Ct9fCVThU5rI"
      },
      "source": [
        "Exercício 2 - Faça um programa que peça dois números e imprima o maior deles."
      ]
    },
    {
      "cell_type": "code",
      "metadata": {
        "colab": {
          "base_uri": "https://localhost:8080/"
        },
        "id": "PE-R20EwU9hQ",
        "outputId": "f28c8958-c556-4289-94e4-2cf7ef670bcd"
      },
      "source": [
        "#peguei os valores\n",
        "n1 = int(input('Primeiro número: '))\n",
        "n2  = int(input('Segundo número : '))\n",
        "#agora vou compara-los se n1 for maior que n2 imprimo n1 se não imprimo n2\n",
        "if n1 > n2 :\n",
        "  print (f'O maior número é o: {n1}')\n",
        "else :\n",
        "    print (f'O maior número é o: {n2}')"
      ],
      "execution_count": 16,
      "outputs": [
        {
          "output_type": "stream",
          "text": [
            "Primeiro número: 1\n",
            "Segundo número : 6\n",
            "O maior número é o:6\n"
          ],
          "name": "stdout"
        }
      ]
    },
    {
      "cell_type": "markdown",
      "metadata": {
        "id": "-k2SktLSU9xd"
      },
      "source": [
        "Exercício 3 - Faça um script que peça um valor e mostre na tela se o valor é positivo ou negativo."
      ]
    },
    {
      "cell_type": "code",
      "metadata": {
        "colab": {
          "base_uri": "https://localhost:8080/"
        },
        "id": "BzLkIsA5VBgf",
        "outputId": "ced06057-6307-4dab-d63e-a62f1cc6fd04"
      },
      "source": [
        "#peguei o valor\n",
        "n1 = int(input('Primeiro número: '))\n",
        "#agora vou comparar o valor com zero. Se maior print positivo, se não, negativo\n",
        "if n1 > 0 :\n",
        "  print ('O número é : Positivo!')\n",
        "else :\n",
        "    print ('O número é : Negativo!')"
      ],
      "execution_count": 19,
      "outputs": [
        {
          "output_type": "stream",
          "text": [
            "Primeiro número: -2\n",
            "O número é : Negativo!\n"
          ],
          "name": "stdout"
        }
      ]
    },
    {
      "cell_type": "markdown",
      "metadata": {
        "id": "qX81P9fcVBv9"
      },
      "source": [
        "Exercício 4 - Crie um programa que verifique se uma letra digitada é \"F\" ou \"M\". Conforme a letra escrever: F - Feminino, M - Masculino, Sexo Inválido."
      ]
    },
    {
      "cell_type": "code",
      "metadata": {
        "colab": {
          "base_uri": "https://localhost:8080/"
        },
        "id": "wfooFJYAVHwk",
        "outputId": "5528bf51-54b0-4b1b-f704-aa8fd0aca47f"
      },
      "source": [
        "#peguei os valores\n",
        "sexo = input('Confirme seu sexo: F / M : ')\n",
        "#agora vou compara-los se sexo é F ou M, se não, print inválido\n",
        "if sexo.upper() == \"F\" :\n",
        "  print ('Seu sexo é Feminino')\n",
        "elif sexo.upper() == \"M\" :\n",
        "    print ('Seu sexo é Masculino')\n",
        "else :\n",
        "    print ('Sexo Inválido')"
      ],
      "execution_count": 8,
      "outputs": [
        {
          "output_type": "stream",
          "text": [
            "Confirme seu sexo: F / M : f\n",
            "Seu sexo é Feminino\n"
          ],
          "name": "stdout"
        }
      ]
    },
    {
      "cell_type": "markdown",
      "metadata": {
        "id": "JYAmuIU7VIGQ"
      },
      "source": [
        "Exercício 5 - Crie um programa em Python que peça a nota do aluno, que deve ser um float entre 0.00 e 10.0\n",
        "-\tSe a nota for menor que 6.0, deve exibir a nota F.\n",
        "-\tSe a nota for de 6.0 até 7.0, deve exibir a nota D.\n",
        "-\tSe a nota for entre 7.0 e 8.0, deve exibir a nota C.\n",
        "-\tSe a nota for entre 8.0 e 9.0, deve exibir a nota B.\n",
        "-\tPor fim, se for entre 9.0 e 10.0, deve exibir um belo de um A.\n"
      ]
    },
    {
      "cell_type": "code",
      "metadata": {
        "colab": {
          "base_uri": "https://localhost:8080/"
        },
        "id": "KoGXbT4AVNcv",
        "outputId": "c96304f1-e204-4b39-d614-3efd7fdf53f3"
      },
      "source": [
        "#pegar valor da nota\n",
        "nota = float(input(\"Digite a nota do aluno: \"))\n",
        "#atribuir uma condição pra cada situação\n",
        "if nota < 6:   \n",
        "  print(\"O aluno tirou nota: F\")\n",
        "elif nota >= 6 and nota <= 7:   \n",
        "  print(\"O aluno tirou nota: D\")\n",
        "elif nota >= 7 and nota <= 8:   \n",
        "  print(\"O aluno tirou nota: C\")\n",
        "elif nota >= 8 and nota <= 9:   \n",
        "  print(\"O aluno tirou nota: B\")\n",
        "else:   \n",
        "  print(\"O aluno tirou nota: A\")"
      ],
      "execution_count": 37,
      "outputs": [
        {
          "output_type": "stream",
          "text": [
            "Digite a nota do aluno: 9.1\n",
            "O aluno tirou nota: A\n"
          ],
          "name": "stdout"
        }
      ]
    },
    {
      "cell_type": "markdown",
      "metadata": {
        "id": "bP9HD6CSVOBn"
      },
      "source": [
        "Exercício 6 - Faça um Programa que verifique se uma letra digitada é vogal ou consoante."
      ]
    },
    {
      "cell_type": "code",
      "metadata": {
        "colab": {
          "base_uri": "https://localhost:8080/"
        },
        "id": "HiSPFn10VS3I",
        "outputId": "0a39daae-1b99-4a56-ee42-3ea6c84589c1"
      },
      "source": [
        "letra = input(\"Coloque uma Letra: \")\n",
        "\n",
        "if letra.lower() ==\"a\":\n",
        "    print(\"É uma Vogal!\")\n",
        "elif letra.lower() == \"e\":\n",
        "    print(\"É uma Vogal!\")\n",
        "elif letra.lower() == \"i\":\n",
        "    print(\"É uma Vogal!\")\n",
        "elif letra.lower() == \"o\":\n",
        "    print(\"É uma Vogal!\")\n",
        "elif letra.lower() == \"u\":\n",
        "    print(\"É uma Vogal!\")\n",
        "else:\n",
        "    print(\"É uma Consoante!\")"
      ],
      "execution_count": 9,
      "outputs": [
        {
          "output_type": "stream",
          "text": [
            "Coloque uma Letra: U\n",
            "É uma Vogal!\n"
          ],
          "name": "stdout"
        }
      ]
    },
    {
      "cell_type": "markdown",
      "metadata": {
        "id": "pcDd-U3zVavn"
      },
      "source": [
        "<h1> PROJETO 1 </h1>\n",
        "Resultado da primeira/segunda aula em Python: <br>\n",
        "-\tEscreva um programa que receba uma string digitada pelo usuário; <br>\n",
        "-\tCaso a string seja \"medieval\", exiba no console \"espada\"; <br>\n",
        "-\tCaso contrário, se a string for \"futurista\", exiba no console \"sabre de luz\"; <br>\n",
        "-\tCaso contrário, exiba no console \"Tente novamente\"<br>\n"
      ]
    },
    {
      "cell_type": "code",
      "metadata": {
        "colab": {
          "base_uri": "https://localhost:8080/"
        },
        "id": "EXNg4--OV38h",
        "outputId": "e4caed93-1df3-4e70-f5d2-63a437d1f886"
      },
      "source": [
        "#primeiro vou estabelecer o input\n",
        "#depois vou comparar o resultado do input. se compativel colocar string determinada, se não, colocar tente novamente\n",
        "arma = input('Escolha sua arma, medieval ou futurista ? ')\n",
        "if arma.lower() == 'medieval' :\n",
        "  print ('Você escolheu a espada!')\n",
        "elif arma.lower() == 'futurista' :\n",
        "  print ('Você escolheu o sabre de luz!')\n",
        "else:\n",
        "  print ('Tente novamente')\n"
      ],
      "execution_count": 10,
      "outputs": [
        {
          "output_type": "stream",
          "text": [
            "Escolha sua arma, medieval ou futurista ? MEDIEVAL\n",
            "Você escolheu a espada!\n"
          ],
          "name": "stdout"
        }
      ]
    },
    {
      "cell_type": "markdown",
      "metadata": {
        "id": "aupSCuP6V4UC"
      },
      "source": [
        "<h1> Continuação do PROJETO 1 </h1>\n",
        "•\tEscreva um programa que receba um ataque de espada ou sabre digitada pelo usuário; <br>\n",
        "•\tCaso o ataque seja \"espada\", exiba no console \"VOCÊ AINDA NÃO MATOU O CHEFÃO\";<br>\n",
        "•\tCaso contrário, se o ataque for \"sabre\", exiba no console \"VOCÊ DERROTOU O CHEFÃO COM O SABRE DE LUZ\"; <br>\n",
        "•\tCaso contrário, exiba no console \"ATAQUE NOVAMENTE\" <br>\n"
      ]
    },
    {
      "cell_type": "code",
      "metadata": {
        "colab": {
          "base_uri": "https://localhost:8080/"
        },
        "id": "rxhWaSPMWXHb",
        "outputId": "d18eb24f-6936-496f-b0f4-d140dbbbfeda"
      },
      "source": [
        "arma = input('Escolha sua arma, espada ou sabre ? ')\n",
        "if arma.lower() == 'espada' :\n",
        "  print ('O CHEFÃO É MUITO FORTE! SUA ESPADA QUEBROU!')\n",
        "elif arma.lower() == 'sabre' :\n",
        "  print ('VOCÊ DERROTOU O CHEFÃO COM O SABRE DE LUZ! QUE A FORÇA ESTEJA COM VOCÊ!')\n",
        "else:\n",
        "  print ('Você não pode ir sem nenhuma arma! escolha novamente')"
      ],
      "execution_count": 11,
      "outputs": [
        {
          "output_type": "stream",
          "text": [
            "Escolha sua arma, espada ou sabre ? ESPADA\n",
            "O CHEFÃO É MUITO FORTE! SUA ESPADA QUEBROU!\n"
          ],
          "name": "stdout"
        }
      ]
    },
    {
      "cell_type": "markdown",
      "metadata": {
        "id": "XG76ELFSWXXS"
      },
      "source": [
        "DESAFIO - As empresas @.com resolveram dar um aumento de salário aos seus colaboradores e lhe contrataram para desenvolver o programa que calculará os reajustes.\n",
        "\n",
        "Faça um programa que recebe o salário de um colaborador e o reajuste segundo o seguinte critério, baseado no salário atual:<br>\n",
        "•\tsalários até R&#36; 280,00 (incluindo) : aumento de 20&#37;<br>\n",
        "•\tsalários entre R&#36; 280,00 e R&#36; 700,00 : aumento de 15&#37;<br>\n",
        "•\tsalários entre R&#36; 700,00 e R&#36; 1500,00 : aumento de 10&#37;<br>\n",
        "•\tsalários de R&#36; 1500,00 em diante : aumento de 5&#37;<br>\n",
        "\n",
        "Após o aumento ser realizado, informe na tela:<br>\n",
        "•\to salário antes do reajuste;<br>\n",
        "•\to percentual de aumento aplicado;<br>\n",
        "•\to valor do aumento;<br>\n",
        "•\to novo salário, após o aumento.\n",
        "\n"
      ]
    },
    {
      "cell_type": "code",
      "metadata": {
        "colab": {
          "base_uri": "https://localhost:8080/"
        },
        "id": "hEYApTxGW-tM",
        "outputId": "88755030-19b0-4147-f299-6c435ee7346e"
      },
      "source": [
        "#criar input para salario (input_salario)\n",
        "#criar faixas salariais como a das notas dos alunos\n",
        "#criando variaveis do percentual de reajuste ficará mais organizado\n",
        "#no print da faixa salarial com todas as informações necessárias\n",
        "\n",
        "salario_inicial = float(input('Coloque o valor do salário que você quer reajustar: '))\n",
        "aumento_faixa1 = salario_inicial * 0.20\n",
        "aumento_faixa2 = salario_inicial * 0.15\n",
        "aumento_faixa3 = salario_inicial * 0.10\n",
        "aumento_faixa4 = salario_inicial * 0.05\n",
        "if salario_inicial <= 280:   \n",
        "  print(f\"O salario antes do reajuste era R${salario_inicial:.2f} e sofrerá um ajuste de R${aumento_faixa1:.2f}(20%). O novo salário será de R${salario_inicial+aumento_faixa1:.2f}\")\n",
        "elif salario_inicial > 280 and salario_inicial < 700:   \n",
        "  print(f\"O salario antes do reajuste era R${salario_inicial:.2f} e sofrerá um ajuste de R${aumento_faixa2:.2f}(15%). O novo salário será de R${salario_inicial+aumento_faixa2:.2f}\")\n",
        "elif salario_inicial >= 700 and salario_inicial < 1500:   \n",
        "  print(f\"O salario antes do reajuste era R${salario_inicial:.2f} e sofrerá um ajuste de R${aumento_faixa3:.2f}(10%). O novo salário será de R${salario_inicial+aumento_faixa3:.2f}\")\n",
        "else: \n",
        "  print(f\"O salario antes do reajuste era R${salario_inicial:.2f} e sofrerá um ajuste de R${aumento_faixa4:.2f}(5%). O novo salário será de R${salario_inicial+aumento_faixa4:.2f}\")\n"
      ],
      "execution_count": 62,
      "outputs": [
        {
          "output_type": "stream",
          "text": [
            "Coloque o valor do salário que você quer reajustar: 2000\n",
            "O salario antes do reajuste era R$2000.00 e sofrerá um ajuste de R$100.00(5%). O novo salário será de R$2100.00\n"
          ],
          "name": "stdout"
        }
      ]
    },
    {
      "cell_type": "markdown",
      "metadata": {
        "id": "zbHbQ0i3W_Xt"
      },
      "source": [
        "<h1>DESAFIO</h1>\n",
        "Faça um Programa para um caixa eletrônico. O programa deverá perguntar ao usuário o valor do saque e depois informar quantas notas de cada valor serão fornecidas. As notas disponíveis serão as de 1, 5, 10, 50 e 100 reais. O valor mínimo é de 10 reais e o máximo de 600 reais. O programa não deve se preocupar com a quantidade de notas existentes na máquina.<br>\n",
        "•\tExemplo 1: Para sacar a quantia de 256 reais, o programa fornece duas notas de 100, uma nota de 50, uma nota de 5 e uma nota de 1;<br>\n",
        "•\tExemplo 2: Para sacar a quantia de 399 reais, o programa fornece três notas de 100, uma nota de 50, quatro notas de 10, uma nota de 5 e quatro notas de 1.\n"
      ]
    },
    {
      "cell_type": "code",
      "metadata": {
        "colab": {
          "base_uri": "https://localhost:8080/"
        },
        "id": "00Dg7o2IZv6y",
        "outputId": "3c8a715e-9a10-4580-acb2-9d9876162586"
      },
      "source": [
        "#Identificar input de entrada como numero inteiro\n",
        "#definir mensagem de erro caso a pessoa coloque um valor diferente do permitido\n",
        "#ao colocar o valor permitido a contagem de cedulas vai funcionar como exercicio de latas e galões do material complementar calculando da maior nota para menor nota até zerar valor\n",
        "\n",
        "saque = int(input('Coloque o valor que você deseja sacar : (10 a 600 reais): '))\n",
        "if saque >= 10 and saque <= 600 :\n",
        "  notas_cem =  int(saque / 100)\n",
        "  saque = saque - (notas_cem*100)\n",
        "  print('Notas R$100,00 = ',notas_cem)\n",
        "  notas_cinquenta = int(saque/50)\n",
        "  saque = saque - (notas_cinquenta*50)\n",
        "  print('Notas R$ 50,00 = ',notas_cinquenta)\n",
        "  notas_dez = int(saque/10)\n",
        "  saque = saque - (notas_dez*10)\n",
        "  print('Notas R$ 10,00 = ',notas_dez)\n",
        "  notas_cinco = int(saque/5)\n",
        "  saque = saque - (notas_cinco*5)\n",
        "  print('Notas R$  5,00 = ',notas_cinco)\n",
        "  notas_um = saque\n",
        "  print('Notas R$  1,00 = ',notas_um)\n",
        "else :\n",
        "  print ('Os saques neste terminal só são válidos para saques entre R$10.00 e R$600.00')"
      ],
      "execution_count": 7,
      "outputs": [
        {
          "output_type": "stream",
          "text": [
            "Coloque o valor que você deseja sacar : (10 a 600 reais): 469\n",
            "Notas R$100,00 =  4\n",
            "Notas R$ 50,00 =  1\n",
            "Notas R$ 10,00 =  1\n",
            "Notas R$  5,00 =  1\n",
            "Notas R$  1,00 =  4\n"
          ],
          "name": "stdout"
        }
      ]
    }
  ]
}