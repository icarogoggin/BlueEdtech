{
  "nbformat": 4,
  "nbformat_minor": 0,
  "metadata": {
    "colab": {
      "name": "Aula04_Exercicios.ipynb.txt",
      "provenance": [],
      "collapsed_sections": [],
      "include_colab_link": true
    },
    "kernelspec": {
      "name": "python3",
      "display_name": "Python 3"
    },
    "language_info": {
      "name": "python"
    }
  },
  "cells": [
    {
      "cell_type": "markdown",
      "metadata": {
        "id": "view-in-github",
        "colab_type": "text"
      },
      "source": [
        "<a href=\"https://colab.research.google.com/github/icarogoggin/BlueEdtech/blob/main/Aula04_Exercicios_ipynb_txt.ipynb\" target=\"_parent\"><img src=\"https://colab.research.google.com/assets/colab-badge.svg\" alt=\"Open In Colab\"/></a>"
      ]
    },
    {
      "cell_type": "markdown",
      "metadata": {
        "id": "DptQTkwqN7v9"
      },
      "source": [
        "# Exercícios de Aquecimento\n",
        "\n",
        "## Exercício 01\n",
        "Elabore um programa que imprima na tela a seguinte frase `Olá Mundo! Esse é o meu primeiro programa`"
      ]
    },
    {
      "cell_type": "code",
      "metadata": {
        "id": "fu-Hvxg7OT64",
        "colab": {
          "base_uri": "https://localhost:8080/"
        },
        "outputId": "644e851c-d56c-4782-c690-cf65eaadc0b0"
      },
      "source": [
        "print ('Olá Mundo! Esse é o meu primeiro programa')"
      ],
      "execution_count": null,
      "outputs": [
        {
          "output_type": "stream",
          "text": [
            "Olá Mundo! Esse é o meu primeiro programa\n"
          ],
          "name": "stdout"
        }
      ]
    },
    {
      "cell_type": "markdown",
      "metadata": {
        "id": "HYnPLbl2OfuE"
      },
      "source": [
        "## Exercício 02\n",
        "Elabore um programa que escreve seu nome completo na primeira linha, seu endereço na segunda e o CEP e telefone na terceira.  \n",
        "\n",
        "**Exemplo:**\n",
        "```\n",
        "Nome: Bruno Fabri\n",
        "Endereço: Rua ABC\n",
        "CEP: 002220-010\n",
        "```"
      ]
    },
    {
      "cell_type": "code",
      "metadata": {
        "id": "sUrmuOzbO5Cd",
        "colab": {
          "base_uri": "https://localhost:8080/"
        },
        "outputId": "772ec57d-bd19-428e-ae6b-38e22562a281"
      },
      "source": [
        "print ('Nome: Ícaro Goggin \\nEndereço: ABC-PE \\nCEP: 99999-000')"
      ],
      "execution_count": null,
      "outputs": [
        {
          "output_type": "stream",
          "text": [
            "Nome: Ícaro Goggin \n",
            "Endereço: ABC-PE \n",
            "CEP: 99999-000\n"
          ],
          "name": "stdout"
        }
      ]
    },
    {
      "cell_type": "markdown",
      "metadata": {
        "id": "5XVY0cvwP1WX"
      },
      "source": [
        "## Exercício 03\n",
        "Elabore um programa que recebe o nome de uma pessoa do terminal e mostra a seguinte mensagem: `Olá {nome}! Seja bem vindo ao fantástico mundo da programação`"
      ]
    },
    {
      "cell_type": "code",
      "metadata": {
        "id": "VDfwe6OSQM0M",
        "colab": {
          "base_uri": "https://localhost:8080/"
        },
        "outputId": "743a17fd-f418-46b7-da46-2f025b99a55f"
      },
      "source": [
        "nome = input('Qual seu nome?')\n",
        "print ('Olá {}! Seja bem vindo ao fantástico mundo da programação!'.format(nome))"
      ],
      "execution_count": null,
      "outputs": [
        {
          "output_type": "stream",
          "text": [
            "Qual seu nome?icaro\n",
            "Olá icaro! Seja bem vindo ao fantástico mundo da programação!\n"
          ],
          "name": "stdout"
        }
      ]
    },
    {
      "cell_type": "markdown",
      "metadata": {
        "id": "1Nb29agVQc3k"
      },
      "source": [
        "## Exercício 04\n",
        "Elabore um programa que recebe dois valores inteiros e mostra a soma desses valores\n",
        "\n",
        "**Exemplo:**\n",
        "\n",
        "```\n",
        "Primeiro Valor = 2\n",
        "Segundo Valor = 3\n",
        "Soma = 5\n",
        "```"
      ]
    },
    {
      "cell_type": "code",
      "metadata": {
        "id": "a6_BwVwRROmH",
        "colab": {
          "base_uri": "https://localhost:8080/"
        },
        "outputId": "faabf95d-d339-4dec-c544-91cf2bcfa7b1"
      },
      "source": [
        "n1 = int(input('Primeiro valor = '))\n",
        "n2 = int(input('Segundo valor = '))\n",
        "resultado = n1 + n2\n",
        "print ('O resultado é = ', resultado)"
      ],
      "execution_count": null,
      "outputs": [
        {
          "output_type": "stream",
          "text": [
            "Primeiro valor = 2\n",
            "Segundo valor = 3\n",
            "O resultado é =  5\n"
          ],
          "name": "stdout"
        }
      ]
    },
    {
      "cell_type": "markdown",
      "metadata": {
        "id": "4HQxR3FTTbSr"
      },
      "source": [
        "## Exercício 05\n",
        "Elabore um programa que recebe dois valores inteiros e mostra se o primeiro valor é maior ou igual ao segundo valor\n",
        "\n",
        "**Exemplo:**\n",
        "```\n",
        "Primeiro Valor = 3\n",
        "Segundo Valor = 2\n",
        "Resultado = True\n",
        "```"
      ]
    },
    {
      "cell_type": "code",
      "metadata": {
        "id": "OXISQASdTeSW",
        "colab": {
          "base_uri": "https://localhost:8080/"
        },
        "outputId": "ad209c97-ba48-405c-d85b-b23d1c4914fa"
      },
      "source": [
        "n1 = int(input('Primeiro valor: '))\n",
        "n2 = int(input('Segundo valor: '))\n",
        "resultado = n1 >= n2\n",
        "print (resultado)"
      ],
      "execution_count": null,
      "outputs": [
        {
          "output_type": "stream",
          "text": [
            "Primeiro valor: 2\n",
            "Segundo valor: 3\n",
            "False\n"
          ],
          "name": "stdout"
        }
      ]
    },
    {
      "cell_type": "markdown",
      "metadata": {
        "id": "Gn8rHPn3UCnc"
      },
      "source": [
        "## Exercício 06\n",
        "Elabore um programa que recebe o seu nome, endereço e hobby e mostra cada uma das informações da seguinte forma:\n",
        "- Nome -> Letra maiúscula\n",
        "- Endereço -> Letra minúscula\n",
        "- Hobby -> Primeira letra maiúscula\n",
        "\n",
        "**Exemplo Entrada:**\n",
        "```\n",
        "Nome: bruno fabri\n",
        "Endereço: Rua ABC\n",
        "Hobby: jogar cs\n",
        "```\n",
        "\n",
        "**Exemplo Saída:**\n",
        "```\n",
        "Nome: BRUNO FABRI\n",
        "Endereço: rua abc\n",
        "Hobby: Jogar cs\n",
        "```"
      ]
    },
    {
      "cell_type": "code",
      "metadata": {
        "id": "ZIj-PGVZVVP6",
        "colab": {
          "base_uri": "https://localhost:8080/"
        },
        "outputId": "32c01830-ed28-4d9d-ff73-5be701bb17ee"
      },
      "source": [
        "nome = input('Digite seu nome: ').upper()\n",
        "endereço = input('Digite seu endereço: ').lower()\n",
        "hobby = input('Digite seu hobby: ').capitalize()\n",
        "print(nome)\n",
        "print(endereço)\n",
        "print(hobby)"
      ],
      "execution_count": null,
      "outputs": [
        {
          "output_type": "stream",
          "text": [
            "Digite seu nome: icaro\n",
            "Digite seu endereço: abc\n",
            "Digite seu hobby: cinema\n",
            "ICARO\n",
            "abc\n",
            "Cinema\n"
          ],
          "name": "stdout"
        }
      ]
    },
    {
      "cell_type": "markdown",
      "metadata": {
        "id": "wlvmEAPQNrcL"
      },
      "source": [
        "# Mini Projetos"
      ]
    },
    {
      "cell_type": "markdown",
      "metadata": {
        "id": "W8zwueNBKh4B"
      },
      "source": [
        "## Mini Projeto 01 - Conversor de Moeda\n",
        "Vamos construir um programa que irá converter moedas do real para o dólar e do dólar para o real. Vamos considerar que `$ 1,00 = R$ 5,75`\n",
        "\n",
        "### Parte 1\n",
        "Faça o conversor de moeda receber o valor em real e mostrar o valor convertido para dólar no formato `$ XXXX.XX`\n",
        "\n",
        "**Exemplo:**\n",
        "\n",
        "```\n",
        "Valor em R$ = 1000\n",
        "Valor em $ = $ 173.91\n",
        "```\n",
        "\n",
        "### Parte 2\n",
        "Altere o conversor de moedas para receber o valor em dólar, converter para real e mostrar o resultado no formato `R$ XXXX.XX`\n",
        "\n",
        "**Exemplo:**\n",
        "```\n",
        "Valor em $ = 1000\n",
        "Valor em R$ = R$ 5750.00\n",
        "```"
      ]
    },
    {
      "cell_type": "code",
      "metadata": {
        "id": "mRQ9fpIgMp5Z",
        "colab": {
          "base_uri": "https://localhost:8080/"
        },
        "outputId": "72a3c5b3-28c4-4802-9969-012b9cd036e5"
      },
      "source": [
        "#Parte 1\n",
        "valor_real = float(input('Digite o valor em Reais: R$'))\n",
        "valor_dolar = float(valor_real / 5.75)\n",
        "print('Valor em Dólar: $', (\"%.2f\" % valor_dolar))\n"
      ],
      "execution_count": null,
      "outputs": [
        {
          "output_type": "stream",
          "text": [
            "Digite o valor em Reais: R$1000\n",
            "Valor em Dólar: $ 173.91\n"
          ],
          "name": "stdout"
        }
      ]
    },
    {
      "cell_type": "code",
      "metadata": {
        "colab": {
          "base_uri": "https://localhost:8080/"
        },
        "id": "zSFLazK-j4uC",
        "outputId": "918ef2d7-75d0-45ff-e544-1e2a05734434"
      },
      "source": [
        "#Parte 2\n",
        "valor_dolar = float(input('Digite o valor em Dólar: $'))\n",
        "valor_real = float(valor_dolar * 5.75)\n",
        "print('Valor em Real: R$', (\"%.2f\" % valor_real))"
      ],
      "execution_count": null,
      "outputs": [
        {
          "output_type": "stream",
          "text": [
            "Digite o valor em Dólar: $1000\n",
            "Valor em Real: R$ 5750.00\n"
          ],
          "name": "stdout"
        }
      ]
    },
    {
      "cell_type": "markdown",
      "metadata": {
        "id": "0NmAiF2DV_ju"
      },
      "source": [
        "## Mini Projeto 02 - Calculadora de aumento de aluguel\n",
        "Vamos construir um programa que irá calcular o aumento anual do seu aluguel em duas partes:\n",
        "\n",
        "### Parte 1\n",
        "A sua calculadora vai receber o `valor do aluguel` e calcular o aumento baseado no `IGPM de 31%`. A calculadora deve apresentar o aluguel reajustado no formato `R$ XXXX.XX`\n",
        "\n",
        "**Exemplo:**\n",
        "```\n",
        "Valor do aluguel = 1000\n",
        "Valor do aluguel reajustado = R$ 1310,00\n",
        "```\n",
        "\n",
        "### Parte 2\n",
        "Agora, altere sua calculadora para receber além do `valor do aluguel`, o percentual do reajuste no formato `XX%`.  \n",
        "\n",
        "**Dica:** Descubra uma forma de transformar o percentual recebido em um número para efetuar o cálculo.\n",
        "\n",
        "**Exemplo:**\n",
        "```\n",
        "Valor do aluguel = 1000\n",
        "Percentual do reajuste = 31%\n",
        "Valor do aluguel reajustado = R% 1310,00\n",
        "```"
      ]
    },
    {
      "cell_type": "code",
      "metadata": {
        "id": "0eHzSCyaGkYJ",
        "colab": {
          "base_uri": "https://localhost:8080/"
        },
        "outputId": "87070ba0-d8b2-44b8-afc1-fd296d3a283a"
      },
      "source": [
        "valorAluguel = float(input(\"Valor do aluguel: R$\" ))\n",
        "porcentagem_do_reajuste = 31/100 + 1\n",
        "valorReajustado = valorAluguel * porcentagem_do_reajuste\n",
        "print(f' O valor do aluguel com o reajuste passa a ser de R$ {valorReajustado:.2f}')\n",
        "\n"
      ],
      "execution_count": 3,
      "outputs": [
        {
          "output_type": "stream",
          "text": [
            "Valor do aluguel: R$1000\n",
            " O valor do aluguel com o reajuste passa a ser de R$ 1310.00\n"
          ],
          "name": "stdout"
        }
      ]
    },
    {
      "cell_type": "code",
      "metadata": {
        "colab": {
          "base_uri": "https://localhost:8080/"
        },
        "id": "TLlTtQJUkG98",
        "outputId": "5700832d-f014-4dd3-943c-e55c0822fc06"
      },
      "source": [
        "\n",
        "valorAluguel = float(input(\"Valor do aluguel: R$\" ))\n",
        "reajuste = input(\"Escolha o percentual de reajuste: \")\n",
        "reajuste2 = reajuste.replace ('%', '')\n",
        "reajuste3 = float(reajuste2)\n",
        "reajuste4 = (reajuste3 / 100) + 1\n",
        "valorReajustado = reajuste4 * valorAluguel\n",
        "print(f'O valor do aluguel com o reajuste passa a ser de R$ {valorReajustado:.2f}')"
      ],
      "execution_count": 10,
      "outputs": [
        {
          "output_type": "stream",
          "text": [
            "Valor do aluguel: R$1000\n",
            "Escolha o percentual de reajuste: 31\n",
            "O valor do aluguel com o reajuste passa a ser de R$ 1310.00\n"
          ],
          "name": "stdout"
        }
      ]
    },
    {
      "cell_type": "markdown",
      "metadata": {
        "id": "xN88sUuMOG46"
      },
      "source": [
        "## Mini Projeto 03 - Calculadora de dano\n",
        "Vamos implementar a calculadora de dano de RPG!!\n",
        "\n",
        "### Parte 1\n",
        "O programa vai receber a `vida e um monstro (entre 10 e 50)` e o `valor do ataque do jogador por turno (entre 5 e 10)`\n",
        "\n",
        "Baseado nos valores, exiba a quantidade de turnos que o jogador irá demorar para conseguir derrotar o monstro.\n",
        "\n",
        "**Exemplo:**\n",
        "```\n",
        "Vida de um monstro (entre 10 e 50): 26\n",
        "Valor do ataque do jogador por turno (entre 5 e 10): 5\n",
        "Resultado: O jogador irá precisar de 6 turnos para derrotar o monstro.\n",
        "```\n",
        "\n",
        "### Parte 2\n",
        "Altere o programa para ao invés de receber a vida do monstro, gerar aleatoriamente um valor entre 10 e 50."
      ]
    },
    {
      "cell_type": "code",
      "metadata": {
        "id": "Mrpz9UomQH2P",
        "colab": {
          "base_uri": "https://localhost:8080/"
        },
        "outputId": "ab32cf67-00a9-49ff-d78c-ee155b715712"
      },
      "source": [
        "# Parte 1\n",
        "\n",
        "vidaMonstro = int(input(\"Defina a vida do monstro entre 10 e 50: \"))\n",
        "valorAtaque = int(input(\"Defina o valor de ataque entre 5 e 10: \"))\n",
        "\n",
        "numTurnos = vidaMonstro // valorAtaque\n",
        "\n",
        "if vidaMonstro % valorAtaque == 0: \n",
        "  print(f\"O jogador irá precisar de {numTurnos} turno(s) para derrotar o monstro.\")\n",
        "else:  \n",
        "  print(\"O jogador irá precisar de\", numTurnos + 1, \"turno(s) para derrotar o monstro.\")\n",
        "\n",
        "\n",
        "\n"
      ],
      "execution_count": null,
      "outputs": [
        {
          "output_type": "stream",
          "text": [
            "Defina a vida do monstro entre 10 e 50: 26\n",
            "Defina o valor de ataque entre 5 e 10: 5\n",
            "O jogador irá precisar de 6 turno(s) para derrotar o monstro.\n"
          ],
          "name": "stdout"
        }
      ]
    },
    {
      "cell_type": "code",
      "metadata": {
        "colab": {
          "base_uri": "https://localhost:8080/"
        },
        "id": "50PpOEIVkRoU",
        "outputId": "48b62268-d37b-405c-e207-6dc95b920f7b"
      },
      "source": [
        "  # Parte 2 \n",
        "\n",
        "import random\n",
        "vidaMonstro = range(10, 50)\n",
        "variavelMonstro = random.choice(vidaMonstro)\n",
        "print(f\"A vida do monstro é: {variavelMonstro}\")\n",
        "valorAtaque = int(input(\"Defina o valor de ataque entre 5 e 10: \"))\n",
        "numTurnos = variavelMonstro // valorAtaque\n",
        "\n",
        "if variavelMonstro % valorAtaque == 0: \n",
        "    print(f\"O jogador irá precisar de {numTurnos} turno(s) para derrotar o monstro.\")\n",
        "else:  \n",
        "    print(\"O jogador irá precisar de\", numTurnos + 1, \"turno(s) para derrotar o monstro.\")"
      ],
      "execution_count": null,
      "outputs": [
        {
          "output_type": "stream",
          "text": [
            "A vida do monstro é: 38\n",
            "Defina o valor de ataque entre 5 e 10: 5\n",
            "O jogador irá precisar de 8 turno(s) para derrotar o monstro.\n"
          ],
          "name": "stdout"
        }
      ]
    }
  ]
}